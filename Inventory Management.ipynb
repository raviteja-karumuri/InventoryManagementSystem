{
 "cells": [
  {
   "cell_type": "code",
   "execution_count": null,
   "id": "e1058236",
   "metadata": {},
   "outputs": [],
   "source": [
    "# Create the file inventory.txt\n",
    "fh = open(\"Data\\inventory.txt\",\"w\")\n",
    "txt = \"1,Brand 1,10,3516,12-03-2023,12-03-2024,Chocolate,Company 1\\n2,Brand 2,12,15386,03-05-2023,03-11-2024,Biscuit,Company 2\\n3,Brand 3,150000,20,01-01-2023,,Laptop,Company 3\"\n",
    "fh.write(txt)\n",
    "fh.close()"
   ]
  },
  {
   "cell_type": "markdown",
   "id": "92e87139",
   "metadata": {},
   "source": [
    "# Product Details\n",
    "1. Product Id\n",
    "2. Name of Product\n",
    "3. Price of product\n",
    "4. Quantity available in inventory\n",
    "5. Manufacturing Date\n",
    "6. Expiry Date\n",
    "7. Category\n",
    "8. Manufacturer"
   ]
  },
  {
   "cell_type": "code",
   "execution_count": null,
   "id": "2962632b",
   "metadata": {},
   "outputs": [],
   "source": [
    "fh = open(\"Data\\inventory.txt\",\"r\")\n",
    "txt=fh.read()\n",
    "fh.close()"
   ]
  },
  {
   "cell_type": "code",
   "execution_count": null,
   "id": "398d42eb",
   "metadata": {},
   "outputs": [],
   "source": [
    "print(txt)"
   ]
  },
  {
   "cell_type": "code",
   "execution_count": null,
   "id": "e5d2d536",
   "metadata": {},
   "outputs": [],
   "source": [
    "# Split the content of the file with new line character\n",
    "# Make sure that the last line does not end with new line character\n",
    "products = txt.split('\\n')"
   ]
  },
  {
   "cell_type": "code",
   "execution_count": null,
   "id": "8eb792eb",
   "metadata": {},
   "outputs": [],
   "source": [
    "# Number of products in the file\n",
    "len(txt.split('\\n'))"
   ]
  },
  {
   "cell_type": "code",
   "execution_count": null,
   "id": "6efcdfe8",
   "metadata": {},
   "outputs": [],
   "source": [
    "# Display a product based on user input\n",
    "\n",
    "ui_prod_id = input(\"Enter product Id:\")\n",
    "\n",
    "for product in products:\n",
    "    #print(product)  # Prints all the products\n",
    "    #print(product.split(',')) # File has comma seperated fields\n",
    "    productDetails = product.split(',')\n",
    "    productId = productDetails[0]\n",
    "    if(productId == ui_prod_id):\n",
    "        print(product)"
   ]
  },
  {
   "cell_type": "code",
   "execution_count": null,
   "id": "eacdd59f",
   "metadata": {},
   "outputs": [],
   "source": [
    "import time\n",
    "# Read the data from text file\n",
    "fh = open(\"Data\\inventory.txt\",\"r\")\n",
    "txt=fh.read()\n",
    "fh.close()\n",
    "\n",
    "# Split the content of the file with new line character\n",
    "# Make sure that the last line does not end with new line character\n",
    "products = txt.split('\\n')\n",
    "\n",
    "# Purchase a product based on Id and quantity\n",
    "\n",
    "ui_username = input(\"Enter your name:\")\n",
    "ui_phone = input(\"Enter your phone number:\")\n",
    "ui_email = input(\"Enter your mail id:\")\n",
    "ui_prod_id = input(\"Enter product Id:\")\n",
    "ui_prod_quantity = input(\"Enter quantity required:\")\n",
    "\n",
    "update_prod_list = []\n",
    "\n",
    "for product in products:\n",
    "    productDetails = product.split(',')\n",
    "    productId = productDetails[0]\n",
    "    if(productId == ui_prod_id):\n",
    "        if(int(ui_prod_quantity) <= int(productDetails[3])):\n",
    "            total_amount = int(ui_prod_quantity)*int(productDetails[2])\n",
    "            print(\"---------------------------------------\")\n",
    "            print(\"Product Name      :\",productDetails[1])\n",
    "            print(\"Price             :\",productDetails[2])\n",
    "            print(\"Quantity required :\",ui_prod_quantity)\n",
    "            print(\"---------------------------------------\")\n",
    "            print(\"Billing amount    :\", total_amount)\n",
    "            print(\"---------------------------------------\")\n",
    "            # Update the inventory\n",
    "            productDetails[3] = str(int(productDetails[3]) - int(ui_prod_quantity))\n",
    "            # Creating the sales details\n",
    "            fd = open(\"Data\\sales.txt\",\"a\")\n",
    "            sales_details=[ui_username,ui_phone,ui_email,ui_prod_id,ui_prod_quantity,str(total_amount),time.ctime()]\n",
    "            fd.write(\",\".join(sales_details) + '\\n')\n",
    "            fd.close()\n",
    "        elif int(productDetails[3])>0:\n",
    "            print(\"Sorry, We're not having enough quantity.\")\n",
    "            print(\"We're having only\",productDetails[3],\"quantity.\")\n",
    "            \n",
    "            ch=input(\"Do you want to purchase \"+ productDetails[3] + \" \" +productDetails[1]+ \"? (Y/N):\")\n",
    "            \n",
    "            if ch==\"Y\" or ch==\"y\":\n",
    "                purchased_quantity = productDetails[3]\n",
    "                total_amount = int(productDetails[3])*int(productDetails[2])\n",
    "                print(\"---------------------------------------\")\n",
    "                print(\"Product Name      :\",productDetails[1])\n",
    "                print(\"Price             :\",productDetails[2])\n",
    "                print(\"Quantity required :\",productDetails[3])\n",
    "                print(\"---------------------------------------\")\n",
    "                print(\"Billing amount    :\", total_amount)\n",
    "                print(\"---------------------------------------\")\n",
    "                \n",
    "                # Update the inventory\n",
    "                productDetails[3] = \"0\"\n",
    "                \n",
    "                # Creating the sales details\n",
    "                fd = open(\"Data\\sales.txt\",\"a\")\n",
    "                sales_details=[ui_username,ui_phone,ui_email,ui_prod_id,purchased_quantity,str(total_amount),time.ctime()]\n",
    "                fd.write(\",\".join(sales_details) + '\\n')\n",
    "                fd.close()\n",
    "            else:\n",
    "                print(\"Thank you for visiting.\")\n",
    "        else:\n",
    "            print(\"Currently\",productDetails[1],\"is out of stock. Please visit again\")\n",
    "                \n",
    "    update_prod_list.append(productDetails)  \n",
    "    \n",
    "#Update the product details in the text file\n",
    "fh = open(\"Data\\inventory.txt\",\"w\")\n",
    "lst = []\n",
    "for i in update_prod_list:\n",
    "    txt=\",\".join(i)\n",
    "    lst.append(txt)\n",
    "fh.write('\\n'.join(lst))\n",
    "fh.close()"
   ]
  },
  {
   "cell_type": "code",
   "execution_count": null,
   "id": "666573b5",
   "metadata": {},
   "outputs": [],
   "source": [
    "\n"
   ]
  }
 ],
 "metadata": {
  "kernelspec": {
   "display_name": "Python 3 (ipykernel)",
   "language": "python",
   "name": "python3"
  },
  "language_info": {
   "codemirror_mode": {
    "name": "ipython",
    "version": 3
   },
   "file_extension": ".py",
   "mimetype": "text/x-python",
   "name": "python",
   "nbconvert_exporter": "python",
   "pygments_lexer": "ipython3",
   "version": "3.11.5"
  }
 },
 "nbformat": 4,
 "nbformat_minor": 5
}
